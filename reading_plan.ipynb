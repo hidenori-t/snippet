{
  "nbformat": 4,
  "nbformat_minor": 0,
  "metadata": {
    "kernelspec": {
      "display_name": "Python 3",
      "language": "python",
      "name": "python3"
    },
    "language_info": {
      "codemirror_mode": {
        "name": "ipython",
        "version": 3
      },
      "file_extension": ".py",
      "mimetype": "text/x-python",
      "name": "python",
      "nbconvert_exporter": "python",
      "pygments_lexer": "ipython3",
      "version": "3.7.6"
    },
    "colab": {
      "name": "reading_plan.ipynb",
      "provenance": [],
      "collapsed_sections": [],
      "include_colab_link": true
    }
  },
  "cells": [
    {
      "cell_type": "markdown",
      "metadata": {
        "id": "view-in-github",
        "colab_type": "text"
      },
      "source": [
        "<a href=\"https://colab.research.google.com/github/hidenori-t/snippet/blob/master/reading_plan.ipynb\" target=\"_parent\"><img src=\"https://colab.research.google.com/assets/colab-badge.svg\" alt=\"Open In Colab\"/></a>"
      ]
    },
    {
      "cell_type": "code",
      "metadata": {
        "id": "__WzEWRZWzSx",
        "colab_type": "code",
        "colab": {}
      },
      "source": [
        "# 読書計画用スニペット\n",
        "from datetime import date\n",
        "import math\n",
        "\n",
        "def reading_plan(title, total_number_of_pages, period):\n",
        "    \n",
        "    current_page = int(input(\"Current page?: \"))\n",
        "    deadline = (date(*period) - date.today()).days - 1\n",
        "    remaining_pages = total_number_of_pages - current_page\n",
        "    \n",
        "    print(title, period, \"まで\", math.ceil(remaining_pages / deadline), \"p/day 残り\",\n",
        "          remaining_pages, \"p/\", deadline, \"days\" )\n",
        "    \n",
        "    print(date.today(), \":\", current_page + math.ceil(remaining_pages / deadline), \"pまで\")"
      ],
      "execution_count": null,
      "outputs": []
    },
    {
      "cell_type": "markdown",
      "metadata": {
        "id": "SMofmpNbWzTT",
        "colab_type": "text"
      },
      "source": [
        "https://wwp.shizuoka.ac.jp/philosophy/%E5%93%B2%E5%AD%A6%E5%AF%BE%E8%A9%B1%E5%A1%BE/"
      ]
    },
    {
      "cell_type": "code",
      "metadata": {
        "id": "UblvxIPEWzTV",
        "colab_type": "code",
        "colab": {
          "base_uri": "https://localhost:8080/",
          "height": 51
        },
        "outputId": "2fe462f2-9df1-4dfe-b1c9-4c2ae1aefa80"
      },
      "source": [
        "reading_plan(\"『哲学は何を問うてきたか』\", 38, (2020,6,15))"
      ],
      "execution_count": null,
      "outputs": [
        {
          "output_type": "stream",
          "text": [
            "Current page?: 70\n",
            "『哲学は何を問うてきたか』 (2020, 6, 15) まで -1 p/day 残り -32 p/ 27 days\n"
          ],
          "name": "stdout"
        }
      ]
    },
    {
      "cell_type": "code",
      "metadata": {
        "id": "CMzl98eoWzTb",
        "colab_type": "code",
        "colab": {
          "base_uri": "https://localhost:8080/",
          "height": 51
        },
        "outputId": "3ed9432d-3264-4cec-c94f-7c8e5c89e9f0"
      },
      "source": [
        "reading_plan(\"『死す哲』\", 261, (2020,6,15))"
      ],
      "execution_count": null,
      "outputs": [
        {
          "output_type": "stream",
          "text": [
            "Current page?: 48\n",
            "『死す哲』 (2020, 6, 15) まで 8 p/day 残り 213 p/ 27 days\n"
          ],
          "name": "stdout"
        }
      ]
    },
    {
      "cell_type": "markdown",
      "metadata": {
        "id": "4wkmJ_zJWzTs",
        "colab_type": "text"
      },
      "source": [
        "$$I_{xivia} \\approx (twitter + instagram + \\Delta facebook ) \\bmod 2$$\n",
        "\n",
        "$$I_{xivia} \\approx (note + mathtodon) \\bmod 2$$"
      ]
    },
    {
      "cell_type": "code",
      "metadata": {
        "id": "qBw4MDuRWzTt",
        "colab_type": "code",
        "colab": {
          "base_uri": "https://localhost:8080/",
          "height": 51
        },
        "outputId": "0fa5e2d3-eb01-4ebe-8c14-069c721fb29d"
      },
      "source": [
        "reading_plan(\"『メノン』\", 263, (2020,10,17))"
      ],
      "execution_count": null,
      "outputs": [
        {
          "output_type": "stream",
          "text": [
            "Current page?: 9\n",
            "『メノン』 (2020, 10, 17) まで 2 p/day 残り 254 p/ 151 days\n"
          ],
          "name": "stdout"
        }
      ]
    },
    {
      "cell_type": "code",
      "metadata": {
        "id": "Ns90dI87XchV",
        "colab_type": "code",
        "colab": {
          "base_uri": "https://localhost:8080/",
          "height": 34
        },
        "outputId": "89c5d564-7ed3-499e-df9e-fa085a4bae98"
      },
      "source": [
        "date(2020, 6, 20) - date.today()"
      ],
      "execution_count": null,
      "outputs": [
        {
          "output_type": "execute_result",
          "data": {
            "text/plain": [
              "datetime.timedelta(5)"
            ]
          },
          "metadata": {
            "tags": []
          },
          "execution_count": 4
        }
      ]
    },
    {
      "cell_type": "code",
      "metadata": {
        "id": "uclgb5KGHa_3",
        "colab_type": "code",
        "colab": {
          "base_uri": "https://localhost:8080/",
          "height": 68
        },
        "outputId": "f1648cbd-4e2c-4ff8-b1b7-30f8d371a08c"
      },
      "source": [
        "reading_plan(\"『饗宴　解説』\", 383, (2020,6,20))"
      ],
      "execution_count": null,
      "outputs": [
        {
          "output_type": "stream",
          "text": [
            "Current page?: 246\n",
            "『饗宴　解説』 (2020, 6, 20) まで 46 p/day 残り 137 p/ 3 days\n",
            "2020-06-16 : 292 pまで\n"
          ],
          "name": "stdout"
        }
      ]
    },
    {
      "cell_type": "code",
      "metadata": {
        "id": "q22zRXb9OS8s",
        "colab_type": "code",
        "colab": {}
      },
      "source": [
        ""
      ],
      "execution_count": null,
      "outputs": []
    }
  ]
}